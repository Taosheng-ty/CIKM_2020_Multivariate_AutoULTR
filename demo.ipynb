{
 "cells": [
  {
   "cell_type": "markdown",
   "metadata": {},
   "source": [
    "# Analysis of Multivariate Scoring Functions for Automatic Unbiased earning to Rank"
   ]
  },
  {
   "cell_type": "markdown",
   "metadata": {},
   "source": [
    "## FIrstly, we need to clone the ULTRA repo, which we create for Unbiased learning to rank. You may need to follow the instruction in https://github.com/ULTR-Community/ULTRA to install ULTRA."
   ]
  },
  {
   "cell_type": "code",
   "execution_count": 10,
   "metadata": {},
   "outputs": [],
   "source": [
    "import numpy as np\n",
    "import matplotlib.pyplot as plt\n",
    "import scipy\n",
    "import json\n",
    "import os\n",
    "import re \n",
    "from collections import defaultdict\n",
    "from utils.process import process,extract_mse\n",
    "from scipy import stats\n",
    "import pandas as pd"
   ]
  },
  {
   "cell_type": "code",
   "execution_count": 53,
   "metadata": {},
   "outputs": [
    {
     "name": "stdout",
     "output_type": "stream",
     "text": [
      "The autoreload extension is already loaded. To reload it, use:\n",
      "  %reload_ext autoreload\n"
     ]
    }
   ],
   "source": [
    "%load_ext autoreload\n",
    "%autoreload 2"
   ]
  },
  {
   "cell_type": "code",
   "execution_count": 1,
   "metadata": {},
   "outputs": [
    {
     "name": "stdout",
     "output_type": "stream",
     "text": [
      "Cloning into 'ULTRA'...\n",
      "remote: Enumerating objects: 164, done.\u001b[K\n",
      "remote: Counting objects: 100% (164/164), done.\u001b[K\n",
      "remote: Compressing objects: 100% (116/116), done.\u001b[K\n",
      "remote: Total 1680 (delta 94), reused 82 (delta 48), pack-reused 1516\u001b[K\n",
      "Receiving objects: 100% (1680/1680), 11.77 MiB | 22.07 MiB/s, done.\n",
      "Resolving deltas: 100% (1101/1101), done.\n"
     ]
    }
   ],
   "source": [
    "!git clone https://github.com/ULTR-Community/ULTRA.git"
   ]
  },
  {
   "cell_type": "markdown",
   "metadata": {},
   "source": [
    "## The benchmark we test of our method are Yahoo set 1 and Istella\\-s. First we need to follow the instruction to download and preprocess the data accordingly. You may need to change a little bit the command line such as the download link which is dynamic and we can't set it. You need to download the datasets by yourself."
   ]
  },
  {
   "cell_type": "code",
   "execution_count": 8,
   "metadata": {},
   "outputs": [],
   "source": [
    "#After you download the dataset, you can run the following cmd to preprocess it.\n",
    "!bash ULTRA/example/Yahoo/offline_exp_pipeline.sh"
   ]
  },
  {
   "cell_type": "code",
   "execution_count": 10,
   "metadata": {},
   "outputs": [],
   "source": [
    "!bash ULTRA/example/Istella-S/offline_exp_pipeline.sh"
   ]
  },
  {
   "cell_type": "markdown",
   "metadata": {},
   "source": [
    "## Then we will run the experiments. You can reproduce the table and figures all with the following command. It takes several hours to do run all experiments. We also provide slurm version comman line if you prefer. You can directly run toy data and get the performance table and graph ( like Table 2 and figure 1 and figure 2.)  However, if you want to reproduce table and graph in original paper, you need first check https://github.com/ULTR-Community/ULTRA.git and prepare data in trec formats and save them in datasets/Istella-s_data and datasets/Yahoo_data. Then you can uncomment corresponding part in  All_experiment.sh."
   ]
  },
  {
   "cell_type": "code",
   "execution_count": null,
   "metadata": {},
   "outputs": [],
   "source": [
    "!./All_experiment.sh"
   ]
  },
  {
   "cell_type": "markdown",
   "metadata": {},
   "source": [
    "# Below is the code to orginize the data and plot figures and tables."
   ]
  },
  {
   "cell_type": "markdown",
   "metadata": {},
   "source": [
    "## for Toy data.\n"
   ]
  },
  {
   "cell_type": "code",
   "execution_count": 73,
   "metadata": {},
   "outputs": [
    {
     "name": "stdout",
     "output_type": "stream",
     "text": [
      "result_log/Toy_DLCM_rever/eta_1.0\n",
      "result_log/Toy_DLCM_init/eta_1.0\n",
      "result_log/Toy_DLCM_rand/eta_1.0\n",
      "result_log/Toy_SetRank/eta_1.0\n",
      "result_log/Toy_DNN/eta_1.0\n",
      "result_log/Toy_DNN_naive/eta_1.0\n"
     ]
    },
    {
     "data": {
      "image/png": "[encoded data removed]",
      "text/plain": [
       "<Figure size 432x288 with 1 Axes>"
      ]
     },
     "metadata": {
      "needs_background": "light"
     },
     "output_type": "display_data"
    }
   ],
   "source": [
    "data_name=\"Toy\"\n",
    "baseline=[\"DLCM_rever\",\"DLCM_init\",\"DLCM_rand\",\"SetRank\",\"DNN\",\"DNN_naive\"]\n",
    "propensity=np.array([0.68, 0.61, 0.48, 0.34, 0.28, 0.2, 0.11, 0.1, 0.08, 0.06])\n",
    "data=np.load(\"result_log/\"+data_name+\"_DNN/eta_1.0/dla_e/train_log_raw.npz\")\n",
    "dla_mse=extract_mse(data,propensity)\n",
    "Yahoo_data=process(\"result_log/\"+data_name+\"_DNN/eta_1.0\")[0][\"eta_1.0\"][\"dla_e\"]\n",
    "Yahoo_baseline=[\"result_log/\"+data_name+\"_\"+i+\"/eta_1.0\" for i in baseline]\n",
    "metrics=[\"err_3\",\"ndcg_3\",\"err_10\",\"ndcg_10\"]\n",
    "results=[]\n",
    "for ind,method in enumerate(Yahoo_baseline):\n",
    "    print(method)\n",
    "    data=process(method)[0][\"eta_1.0\"][\"dla_e\"]\n",
    "    results_cur=[]\n",
    "    for metric in metrics:\n",
    "        data_cur=np.array(data[metric])\n",
    "        data_base=np.array(Yahoo_data[metric])\n",
    "#         print(data_cur,data_base)\n",
    "        label=\"+\" if np.mean(data_cur)>np.mean(data_base) else \"-\"\n",
    "        size=np.min([data_cur.shape[0],data_base.shape[0]])\n",
    "        p=stats.ttest_rel(data_cur[:size],data_base[:size])[1]\n",
    "        result_cur_metric=\"{:#.3g}\".format(np.mean(data_cur))\n",
    "        if p<0.05:\n",
    "            result_cur_metric+=label\n",
    "#         print(np.mean(data_cur),p)\n",
    "        results_cur.append(result_cur_metric)\n",
    "    if \"naive\" not in method:\n",
    "        data_mse=np.load(method+\"/dla_e/train_log_raw.npz\")\n",
    "        mse=extract_mse(data_mse,propensity,dla_mse)\n",
    "        results_cur.append(mse)\n",
    "    else:\n",
    "        results_cur.append(\"-\")\n",
    "    results.append(results_cur)\n",
    "dfObj = pd.DataFrame(results, columns = metrics+[\"$MSE_{propen}$\"], index=baseline)\n",
    "dfObj.to_csv(\"plots/\"+data_name+\"_table.csv\")\n",
    "fig, ax = plt.subplots()\n",
    "marker=[\"o\",\"s\",\"v\",\"*\",\"^\",\">\",\"<\"]\n",
    "for ind,method in enumerate(Yahoo_baseline):\n",
    "    data=np.load(method+\"/dla_e/valid_log_raw.npz\")\n",
    "    steps=data[\"steps\"]\n",
    "    ndcg_mean=np.mean(data[\"ndcg_10\"],1)\n",
    "    ndcg_std=np.std(data[\"ndcg_10\"],1)\n",
    "    ax.errorbar(steps,ndcg_mean,ndcg_std,marker=marker[ind],label=baseline[ind])\n",
    "# plt.xticks(np.arange(min(ind1), max(ind1)+1000, 1000))\n",
    "leg = ax.legend(bbox_to_anchor=(0.33, 0.0, 0.5, 0.5),loc=4,ncol=2)\n",
    "plt.xlabel('Training steps', fontsize=10)\n",
    "plt.ylabel('nDCG@10', fontsize=10)\n",
    "ax.yaxis.grid()\n",
    "ax.xaxis.grid()\n",
    "# plt.savefig(\"/raid/taoyang/research/research_everyday/homework/intro_to_ir/projects/experiment_log/pic/Istella_comparison.pdf\",bbox_inches='tight')\n",
    "plt.savefig(\"plots/\"+data_name+\"_comparison.pdf\",bbox_inches='tight', dpi = 600)\n"
   ]
  },
  {
   "cell_type": "markdown",
   "metadata": {},
   "source": [
    "## For， Yahoo data."
   ]
  },
  {
   "cell_type": "code",
   "execution_count": 71,
   "metadata": {},
   "outputs": [],
   "source": [
    "data_name=\"Yahoo\"\n",
    "baseline=[\"DLCM_rever\",\"DLCM_init\",\"DLCM_rand\",\"SetRank\",\"DNN\",\"DNN_naive\"]\n",
    "propensity=np.array([0.68, 0.61, 0.48, 0.34, 0.28, 0.2, 0.11, 0.1, 0.08, 0.06])\n",
    "data=np.load(\"result_log/\"+data_name+\"_DNN/eta_1.0/dla_e/train_log_raw.npz\")\n",
    "dla_mse=extract_mse(data,propensity)\n",
    "Yahoo_data=process(\"result_log/\"+data_name+\"_DNN/eta_1.0\")[0][\"eta_1.0\"][\"dla_e\"]\n",
    "Yahoo_baseline=[\"result_log/\"+data_name+\"_\"+i+\"/eta_1.0\" for i in baseline]\n",
    "metrics=[\"err_3\",\"ndcg_3\",\"err_10\",\"ndcg_10\"]\n",
    "results=[]\n",
    "for ind,method in enumerate(Yahoo_baseline):\n",
    "    print(method)\n",
    "    data=process(method)[0][\"eta_1.0\"][\"dla_e\"]\n",
    "    results_cur=[]\n",
    "    for metric in metrics:\n",
    "        data_cur=np.array(data[metric])\n",
    "        data_base=np.array(Yahoo_data[metric])\n",
    "#         print(data_cur,data_base)\n",
    "        label=\"+\" if np.mean(data_cur)>np.mean(data_base) else \"-\"\n",
    "        size=np.min([data_cur.shape[0],data_base.shape[0]])\n",
    "        p=stats.ttest_rel(data_cur[:size],data_base[:size])[1]\n",
    "        result_cur_metric=\"{:#.3g}\".format(np.mean(data_cur))\n",
    "        if p<0.05:\n",
    "            result_cur_metric+=label\n",
    "#         print(np.mean(data_cur),p)\n",
    "        results_cur.append(result_cur_metric)\n",
    "    if \"naive\" not in method:\n",
    "        data_mse=np.load(method+\"/dla_e/train_log_raw.npz\")\n",
    "        mse=extract_mse(data_mse,propensity,dla_mse)\n",
    "        results_cur.append(mse)\n",
    "    else:\n",
    "        results_cur.append(\"-\")\n",
    "    results.append(results_cur)\n",
    "dfObj = pd.DataFrame(results, columns = metrics+[\"$MSE_{propen}$\"], index=baseline)\n",
    "dfObj.to_csv(\"plots/\"+data_name+\"_table.csv\")\n",
    "fig, ax = plt.subplots()\n",
    "marker=[\"o\",\"s\",\"v\",\"*\",\"^\",\">\",\"<\"]\n",
    "for ind,method in enumerate(Yahoo_baseline):\n",
    "    data=np.load(method+\"/dla_e/valid_log_raw.npz\")\n",
    "    steps=data[\"steps\"]\n",
    "    ndcg_mean=np.mean(data[\"ndcg_10\"],1)\n",
    "    ndcg_std=np.std(data[\"ndcg_10\"],1)\n",
    "    ax.errorbar(steps,ndcg_mean,ndcg_std,marker=marker[ind],label=baseline[ind])\n",
    "# plt.xticks(np.arange(min(ind1), max(ind1)+1000, 1000))\n",
    "leg = ax.legend(bbox_to_anchor=(0.33, 0.0, 0.5, 0.5),loc=4,ncol=2)\n",
    "plt.xlabel('Training steps', fontsize=10)\n",
    "plt.ylabel('nDCG@10', fontsize=10)\n",
    "ax.yaxis.grid()\n",
    "ax.xaxis.grid()\n",
    "# plt.savefig(\"/raid/taoyang/research/research_everyday/homework/intro_to_ir/projects/experiment_log/pic/Istella_comparison.pdf\",bbox_inches='tight')\n",
    "plt.savefig(\"plots/\"+data_name+\"_comparison.pdf\",bbox_inches='tight', dpi = 600)\n"
   ]
  },
  {
   "cell_type": "markdown",
   "metadata": {},
   "source": [
    "## For， Istella-s data."
   ]
  },
  {
   "cell_type": "code",
   "execution_count": 72,
   "metadata": {},
   "outputs": [],
   "source": [
    "data_name=\"Istella\"\n",
    "baseline=[\"DLCM_rever\",\"DLCM_init\",\"DLCM_rand\",\"SetRank\",\"DNN\",\"DNN_naive\"]\n",
    "propensity=np.array([0.68, 0.61, 0.48, 0.34, 0.28, 0.2, 0.11, 0.1, 0.08, 0.06])\n",
    "data=np.load(\"result_log/\"+data_name+\"_DNN/eta_1.0/dla_e/train_log_raw.npz\")\n",
    "dla_mse=extract_mse(data,propensity)\n",
    "Yahoo_data=process(\"result_log/\"+data_name+\"_DNN/eta_1.0\")[0][\"eta_1.0\"][\"dla_e\"]\n",
    "Yahoo_baseline=[\"result_log/\"+data_name+\"_\"+i+\"/eta_1.0\" for i in baseline]\n",
    "metrics=[\"err_3\",\"ndcg_3\",\"err_10\",\"ndcg_10\"]\n",
    "results=[]\n",
    "for ind,method in enumerate(Yahoo_baseline):\n",
    "    print(method)\n",
    "    data=process(method)[0][\"eta_1.0\"][\"dla_e\"]\n",
    "    results_cur=[]\n",
    "    for metric in metrics:\n",
    "        data_cur=np.array(data[metric])\n",
    "        data_base=np.array(Yahoo_data[metric])\n",
    "#         print(data_cur,data_base)\n",
    "        label=\"+\" if np.mean(data_cur)>np.mean(data_base) else \"-\"\n",
    "        size=np.min([data_cur.shape[0],data_base.shape[0]])\n",
    "        p=stats.ttest_rel(data_cur[:size],data_base[:size])[1]\n",
    "        result_cur_metric=\"{:#.3g}\".format(np.mean(data_cur))\n",
    "        if p<0.05:\n",
    "            result_cur_metric+=label\n",
    "#         print(np.mean(data_cur),p)\n",
    "        results_cur.append(result_cur_metric)\n",
    "    if \"naive\" not in method:\n",
    "        data_mse=np.load(method+\"/dla_e/train_log_raw.npz\")\n",
    "        mse=extract_mse(data_mse,propensity,dla_mse)\n",
    "        results_cur.append(mse)\n",
    "    else:\n",
    "        results_cur.append(\"-\")\n",
    "    results.append(results_cur)\n",
    "dfObj = pd.DataFrame(results, columns = metrics+[\"$MSE_{propen}$\"], index=baseline)\n",
    "dfObj.to_csv(\"plots/\"+data_name+\"_table.csv\")\n",
    "fig, ax = plt.subplots()\n",
    "marker=[\"o\",\"s\",\"v\",\"*\",\"^\",\">\",\"<\"]\n",
    "for ind,method in enumerate(Yahoo_baseline):\n",
    "    data=np.load(method+\"/dla_e/valid_log_raw.npz\")\n",
    "    steps=data[\"steps\"]\n",
    "    ndcg_mean=np.mean(data[\"ndcg_10\"],1)\n",
    "    ndcg_std=np.std(data[\"ndcg_10\"],1)\n",
    "    ax.errorbar(steps,ndcg_mean,ndcg_std,marker=marker[ind],label=baseline[ind])\n",
    "# plt.xticks(np.arange(min(ind1), max(ind1)+1000, 1000))\n",
    "leg = ax.legend(bbox_to_anchor=(0.33, 0.0, 0.5, 0.5),loc=4,ncol=2)\n",
    "plt.xlabel('Training steps', fontsize=10)\n",
    "plt.ylabel('nDCG@10', fontsize=10)\n",
    "ax.yaxis.grid()\n",
    "ax.xaxis.grid()\n",
    "# plt.savefig(\"/raid/taoyang/research/research_everyday/homework/intro_to_ir/projects/experiment_log/pic/Istella_comparison.pdf\",bbox_inches='tight')\n",
    "plt.savefig(\"plots/\"+data_name+\"_comparison.pdf\",bbox_inches='tight', dpi = 600)\n"
   ]
  },
  {
   "cell_type": "markdown",
   "metadata": {},
   "source": [
    "# Analysis of Multivariate Scoring Functions for Automatic Unbiased earning to Rank\n",
    "In this repository, we have uploaded the code corresponding to the CIKM2020 Paper \"Analysis of Multivariate Scoring Functions for Automatic Unbiased Learning to Rank\", which is also on arxiv (https://arxiv.org/abs/2008.09061).\n",
    "\n",
    "You may play with toy data we prepared by run the following command line.\n",
    "1. ./All_experiment.sh \n",
    "\n",
    "For Yahoo and Istella-s datasets, you need to prepare them in TREC form first.The Paper contains 2 figures and 2 tables. You can reproduce all of them.\n",
    "steps:\n",
    "1. git clone https://github.com/ULTR-Community/ULTRA.git\n",
    "2. Prepare Yahoo and Istella-s acoording to pipelines in  ULTRA/example/Istella-S and ULTRA/example/Yahoo\n",
    "3. Copy the tmp_data folder from step 2 to datasets. The structure should be like datasets/toy_data.\n",
    "4. Uncomment corresponding part in All_experiment.sh\n",
    "5. Open demo.ipynb for plotting.\n"
   ]
  },
  {
   "cell_type": "code",
   "execution_count": null,
   "metadata": {},
   "outputs": [],
   "source": []
  }
 ],
 "metadata": {
  "kernelspec": {
   "display_name": "Python 3.6.9 64-bit ('ultra_p36': conda)",
   "language": "python",
   "name": "python36964bitultrap36condacee6eee70e5b44b99b9b7bf023422806"
  },
  "language_info": {
   "codemirror_mode": {
    "name": "ipython",
    "version": 3
   },
   "file_extension": ".py",
   "mimetype": "text/x-python",
   "name": "python",
   "nbconvert_exporter": "python",
   "pygments_lexer": "ipython3",
   "version": "3.6.9"
  }
 },
 "nbformat": 4,
 "nbformat_minor": 4
}
